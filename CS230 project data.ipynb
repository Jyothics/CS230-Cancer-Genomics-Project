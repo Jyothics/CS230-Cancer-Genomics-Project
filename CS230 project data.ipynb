{
 "cells": [
  {
   "cell_type": "markdown",
   "metadata": {},
   "source": [
    "## Data Processing"
   ]
  },
  {
   "cell_type": "code",
   "execution_count": 11,
   "metadata": {},
   "outputs": [
    {
     "name": "stdout",
     "output_type": "stream",
     "text": [
      "<class 'pandas.core.frame.DataFrame'>\n",
      "RangeIndex: 20530 entries, 0 to 20529\n",
      "Columns: 1219 entries, sample to TCGA-B6-A0X1-01\n",
      "dtypes: float64(1218), object(1)\n",
      "memory usage: 190.9+ MB\n",
      "None\n"
     ]
    }
   ],
   "source": [
    "import pandas as pd\n",
    "import numpy as np\n",
    "import matplotlib.pyplot as plt\n",
    "\n",
    "##load the data to pandas dataframe\n",
    "data = pd.read_table('HiSeqV2')\n",
    "print (data.info())"
   ]
  },
  {
   "cell_type": "code",
   "execution_count": 18,
   "metadata": {},
   "outputs": [
    {
     "name": "stdout",
     "output_type": "stream",
     "text": [
      "    sample  TCGA-AR-A5QQ-01  TCGA-D8-A1JA-01  TCGA-BH-A0BQ-01  \\\n",
      "1    HIF3A           1.5787           3.6607           2.7224   \n",
      "2    RNF17           0.0000           0.6245           0.5526   \n",
      "3    RNF10          11.3676          11.9181          11.9665   \n",
      "4    RNF11          11.1292          13.5273          11.4105   \n",
      "5    RNF13           9.9722          10.8702          10.4406   \n",
      "6  GTF2IP1          11.5966          12.3048          12.8186   \n",
      "7     REM1           3.2396           2.5547           4.7115   \n",
      "\n",
      "   TCGA-BH-A0BT-01  TCGA-A8-A06X-01  TCGA-A8-A096-01  TCGA-BH-A0C7-01  \\\n",
      "1           1.3414           0.5819           0.2738           3.6090   \n",
      "2           0.0000           0.0000           0.8765           0.0000   \n",
      "3          13.1881          12.0036          11.8118          11.3820   \n",
      "4          11.0911          11.2545          10.8554          10.7663   \n",
      "5          10.4244          10.1480          10.4282          10.3366   \n",
      "6          12.6427          12.6622          12.4810          12.7240   \n",
      "7           2.7553           4.2765           4.3232           2.2163   \n",
      "\n",
      "   TCGA-AC-A5XU-01  TCGA-PE-A5DE-01       ...         TCGA-A7-A13E-11  \\\n",
      "1           0.4738           2.9378       ...                  8.1546   \n",
      "2           0.0000           0.0000       ...                  0.0000   \n",
      "3          11.5004          12.2055       ...                 11.9869   \n",
      "4          10.4358          11.2210       ...                 11.9344   \n",
      "5          10.4248           9.8265       ...                 10.9178   \n",
      "6          13.7292          12.2089       ...                 12.7623   \n",
      "7           5.8810           4.4802       ...                  6.6016   \n",
      "\n",
      "   TCGA-C8-A8HP-01  TCGA-E9-A5FL-01  TCGA-AC-A2FB-11  TCGA-E2-A15F-01  \\\n",
      "1           2.2159           3.8645           8.1872           0.8836   \n",
      "2           0.0000           3.7305           0.0000           0.0000   \n",
      "3          12.2653          12.4815          11.8263          12.0135   \n",
      "4          11.4117          10.4902          11.5754          10.8370   \n",
      "5          10.1413          10.1415          11.0725          10.5614   \n",
      "6          12.6667          12.3656          12.6265          13.2703   \n",
      "7           5.0266           5.4259           6.3661           3.1052   \n",
      "\n",
      "   TCGA-A2-A3XT-01  TCGA-B6-A0X7-01  TCGA-BH-A1EV-11  TCGA-3C-AALJ-01  \\\n",
      "1           1.3169           4.0696           7.2537           0.9310   \n",
      "2           1.1329           0.4258           0.0000           0.0000   \n",
      "3          11.5818          11.8663          11.5460          12.2616   \n",
      "4          10.2736          10.7644          11.8774          10.7842   \n",
      "5           9.9443          10.4864          11.1226           9.5713   \n",
      "6          12.2951          12.8246          12.7776          12.7540   \n",
      "7           3.8797           5.0709           5.0116           4.9504   \n",
      "\n",
      "   TCGA-B6-A0X1-01  \n",
      "1           2.4191  \n",
      "2           0.0000  \n",
      "3          12.1570  \n",
      "4          11.2420  \n",
      "5           9.7812  \n",
      "6          11.3538  \n",
      "7           5.3268  \n",
      "\n",
      "[7 rows x 1219 columns]\n"
     ]
    }
   ],
   "source": [
    "##visualize the first few rows of the data\n",
    "print (data.iloc[1:8])"
   ]
  },
  {
   "cell_type": "code",
   "execution_count": 24,
   "metadata": {},
   "outputs": [
    {
     "data": {
      "text/html": [
       "<div>\n",
       "<style>\n",
       "    .dataframe thead tr:only-child th {\n",
       "        text-align: right;\n",
       "    }\n",
       "\n",
       "    .dataframe thead th {\n",
       "        text-align: left;\n",
       "    }\n",
       "\n",
       "    .dataframe tbody tr th {\n",
       "        vertical-align: top;\n",
       "    }\n",
       "</style>\n",
       "<table border=\"1\" class=\"dataframe\">\n",
       "  <thead>\n",
       "    <tr style=\"text-align: right;\">\n",
       "      <th></th>\n",
       "      <th>sample</th>\n",
       "      <th>TCGA-AR-A5QQ-01</th>\n",
       "      <th>TCGA-D8-A1JA-01</th>\n",
       "      <th>TCGA-BH-A0BQ-01</th>\n",
       "      <th>TCGA-BH-A0BT-01</th>\n",
       "      <th>TCGA-A8-A06X-01</th>\n",
       "      <th>TCGA-A8-A096-01</th>\n",
       "      <th>TCGA-BH-A0C7-01</th>\n",
       "      <th>TCGA-AC-A5XU-01</th>\n",
       "      <th>TCGA-PE-A5DE-01</th>\n",
       "      <th>...</th>\n",
       "      <th>TCGA-A7-A13E-11</th>\n",
       "      <th>TCGA-C8-A8HP-01</th>\n",
       "      <th>TCGA-E9-A5FL-01</th>\n",
       "      <th>TCGA-AC-A2FB-11</th>\n",
       "      <th>TCGA-E2-A15F-01</th>\n",
       "      <th>TCGA-A2-A3XT-01</th>\n",
       "      <th>TCGA-B6-A0X7-01</th>\n",
       "      <th>TCGA-BH-A1EV-11</th>\n",
       "      <th>TCGA-3C-AALJ-01</th>\n",
       "      <th>TCGA-B6-A0X1-01</th>\n",
       "    </tr>\n",
       "  </thead>\n",
       "  <tbody>\n",
       "    <tr>\n",
       "      <th>1372</th>\n",
       "      <td>BCAT1</td>\n",
       "      <td>9.5971</td>\n",
       "      <td>9.7412</td>\n",
       "      <td>8.6166</td>\n",
       "      <td>8.3462</td>\n",
       "      <td>7.4785</td>\n",
       "      <td>9.8668</td>\n",
       "      <td>7.9418</td>\n",
       "      <td>7.9915</td>\n",
       "      <td>7.7665</td>\n",
       "      <td>...</td>\n",
       "      <td>10.0234</td>\n",
       "      <td>8.9671</td>\n",
       "      <td>9.9485</td>\n",
       "      <td>8.7023</td>\n",
       "      <td>7.1337</td>\n",
       "      <td>8.9752</td>\n",
       "      <td>7.7052</td>\n",
       "      <td>8.8175</td>\n",
       "      <td>8.4326</td>\n",
       "      <td>8.4555</td>\n",
       "    </tr>\n",
       "  </tbody>\n",
       "</table>\n",
       "<p>1 rows × 1219 columns</p>\n",
       "</div>"
      ],
      "text/plain": [
       "     sample  TCGA-AR-A5QQ-01  TCGA-D8-A1JA-01  TCGA-BH-A0BQ-01  \\\n",
       "1372  BCAT1           9.5971           9.7412           8.6166   \n",
       "\n",
       "      TCGA-BH-A0BT-01  TCGA-A8-A06X-01  TCGA-A8-A096-01  TCGA-BH-A0C7-01  \\\n",
       "1372           8.3462           7.4785           9.8668           7.9418   \n",
       "\n",
       "      TCGA-AC-A5XU-01  TCGA-PE-A5DE-01       ...         TCGA-A7-A13E-11  \\\n",
       "1372           7.9915           7.7665       ...                 10.0234   \n",
       "\n",
       "      TCGA-C8-A8HP-01  TCGA-E9-A5FL-01  TCGA-AC-A2FB-11  TCGA-E2-A15F-01  \\\n",
       "1372           8.9671           9.9485           8.7023           7.1337   \n",
       "\n",
       "      TCGA-A2-A3XT-01  TCGA-B6-A0X7-01  TCGA-BH-A1EV-11  TCGA-3C-AALJ-01  \\\n",
       "1372           8.9752           7.7052           8.8175           8.4326   \n",
       "\n",
       "      TCGA-B6-A0X1-01  \n",
       "1372           8.4555  \n",
       "\n",
       "[1 rows x 1219 columns]"
      ]
     },
     "execution_count": 24,
     "metadata": {},
     "output_type": "execute_result"
    }
   ],
   "source": [
    "##test-- print out data for a certain gene\n",
    "data.loc[data['sample'] == 'BCAT1']"
   ]
  },
  {
   "cell_type": "code",
   "execution_count": 51,
   "metadata": {},
   "outputs": [
    {
     "name": "stdout",
     "output_type": "stream",
     "text": [
      "['ABL1' 'ACVR1' 'ACVR1B' 'AFAP1L2' 'AHR' 'AIF1' 'AKAP8' 'ALOX15B' 'ANAPC10'\n",
      " 'ANAPC11']\n"
     ]
    }
   ],
   "source": [
    "##load the cell cycle gene set into a numpy array\n",
    "cell_cycle_genes = np.loadtxt('cell cycle geneset.txt', dtype = np.dtype('str'), skiprows=2) \n",
    "print (cell_cycle_genes[0:10])"
   ]
  },
  {
   "cell_type": "code",
   "execution_count": 56,
   "metadata": {},
   "outputs": [
    {
     "name": "stdout",
     "output_type": "stream",
     "text": [
      "<class 'pandas.core.frame.DataFrame'>\n",
      "Int64Index: 311 entries, 48 to 20358\n",
      "Columns: 1219 entries, sample to TCGA-B6-A0X1-01\n",
      "dtypes: float64(1218), object(1)\n",
      "memory usage: 2.9+ MB\n",
      "None\n"
     ]
    }
   ],
   "source": [
    "##select only genes in the cell cycle pathway\n",
    "data_selected = data.loc[data['sample'].isin(cell_cycle_genes)]\n",
    "print (data_selected.info())"
   ]
  },
  {
   "cell_type": "code",
   "execution_count": null,
   "metadata": {
    "collapsed": true
   },
   "outputs": [],
   "source": []
  }
 ],
 "metadata": {
  "kernelspec": {
   "display_name": "Python 3",
   "language": "python",
   "name": "python3"
  },
  "language_info": {
   "codemirror_mode": {
    "name": "ipython",
    "version": 3
   },
   "file_extension": ".py",
   "mimetype": "text/x-python",
   "name": "python",
   "nbconvert_exporter": "python",
   "pygments_lexer": "ipython3",
   "version": "3.6.3"
  }
 },
 "nbformat": 4,
 "nbformat_minor": 2
}
